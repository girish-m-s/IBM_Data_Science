{
 "cells": [
  {
   "cell_type": "code",
   "execution_count": 13,
   "id": "08d180a7-9dd1-479e-8276-398775eb2bcb",
   "metadata": {
    "tags": []
   },
   "outputs": [
    {
     "name": "stdout",
     "output_type": "stream",
     "text": [
      "The sql extension is already loaded. To reload it, use:\n",
      "  %reload_ext sql\n"
     ]
    },
    {
     "data": {
      "text/plain": [
       "'Connected: @RealWorldData.db'"
      ]
     },
     "execution_count": 13,
     "metadata": {},
     "output_type": "execute_result"
    }
   ],
   "source": [
    "import csv, sqlite3\n",
    "\n",
    "con1 = sqlite3.connect(\"CENSUS_DATA.db\")\n",
    "census = con1.cursor()\n",
    "con2 = sqlite3.connect(\"CHICAGO_PUBLIC_SCHOOLS.db\")\n",
    "school = con2.cursor()\n",
    "con3 = sqlite3.connect(\"CHICAGO_CRIME_DATA.db\")\n",
    "crime = con3.cursor()\n",
    "\n",
    "%load_ext sql\n",
    "%sql sqlite:///RealWorldData.db"
   ]
  },
  {
   "cell_type": "code",
   "execution_count": 14,
   "id": "6e56d7a4-bd8d-4502-8d78-c03e1ff0b128",
   "metadata": {
    "tags": []
   },
   "outputs": [
    {
     "name": "stdout",
     "output_type": "stream",
     "text": [
      " * sqlite:///RealWorldData.db\n",
      "Done.\n"
     ]
    },
    {
     "data": {
      "text/html": [
       "<table>\n",
       "    <thead>\n",
       "        <tr>\n",
       "            <th>COMMUNITY_AREA_NUMBER</th>\n",
       "            <th>COMMUNITY_AREA_NAME</th>\n",
       "            <th>PERCENT_OF_HOUSING_CROWDED</th>\n",
       "            <th>PERCENT_HOUSEHOLDS_BELOW_POVERTY</th>\n",
       "            <th>PERCENT_AGED_16__UNEMPLOYED</th>\n",
       "            <th>PERCENT_AGED_25__WITHOUT_HIGH_SCHOOL_DIPLOMA</th>\n",
       "            <th>PERCENT_AGED_UNDER_18_OR_OVER_64</th>\n",
       "            <th>PER_CAPITA_INCOME</th>\n",
       "            <th>HARDSHIP_INDEX</th>\n",
       "        </tr>\n",
       "    </thead>\n",
       "    <tbody>\n",
       "    </tbody>\n",
       "</table>"
      ],
      "text/plain": [
       "[]"
      ]
     },
     "execution_count": 14,
     "metadata": {},
     "output_type": "execute_result"
    }
   ],
   "source": [
    "%sql Select * from CENSUS_DATA limit 0;"
   ]
  },
  {
   "cell_type": "code",
   "execution_count": 21,
   "id": "ae9183f2-5701-4209-9750-f632c0daa295",
   "metadata": {
    "tags": []
   },
   "outputs": [
    {
     "name": "stdout",
     "output_type": "stream",
     "text": [
      " * sqlite:///RealWorldData.db\n",
      "Done.\n"
     ]
    },
    {
     "data": {
      "text/html": [
       "<table>\n",
       "    <thead>\n",
       "        <tr>\n",
       "            <th>School_ID</th>\n",
       "            <th>NAME_OF_SCHOOL</th>\n",
       "            <th>Elementary, Middle, or High School</th>\n",
       "            <th>Street_Address</th>\n",
       "            <th>City</th>\n",
       "            <th>State</th>\n",
       "            <th>ZIP_Code</th>\n",
       "            <th>Phone_Number</th>\n",
       "            <th>Link</th>\n",
       "            <th>Network_Manager</th>\n",
       "            <th>Collaborative_Name</th>\n",
       "            <th>Adequate_Yearly_Progress_Made_</th>\n",
       "            <th>Track_Schedule</th>\n",
       "            <th>CPS_Performance_Policy_Status</th>\n",
       "            <th>CPS_Performance_Policy_Level</th>\n",
       "            <th>HEALTHY_SCHOOL_CERTIFIED</th>\n",
       "            <th>Safety_Icon</th>\n",
       "            <th>SAFETY_SCORE</th>\n",
       "            <th>Family_Involvement_Icon</th>\n",
       "            <th>Family_Involvement_Score</th>\n",
       "            <th>Environment_Icon</th>\n",
       "            <th>Environment_Score</th>\n",
       "            <th>Instruction_Icon</th>\n",
       "            <th>Instruction_Score</th>\n",
       "            <th>Leaders_Icon</th>\n",
       "            <th>Leaders_Score</th>\n",
       "            <th>Teachers_Icon</th>\n",
       "            <th>Teachers_Score</th>\n",
       "            <th>Parent_Engagement_Icon</th>\n",
       "            <th>Parent_Engagement_Score</th>\n",
       "            <th>Parent_Environment_Icon</th>\n",
       "            <th>Parent_Environment_Score</th>\n",
       "            <th>AVERAGE_STUDENT_ATTENDANCE</th>\n",
       "            <th>Rate_of_Misconducts__per_100_students_</th>\n",
       "            <th>Average_Teacher_Attendance</th>\n",
       "            <th>Individualized_Education_Program_Compliance_Rate</th>\n",
       "            <th>Pk_2_Literacy__</th>\n",
       "            <th>Pk_2_Math__</th>\n",
       "            <th>Gr3_5_Grade_Level_Math__</th>\n",
       "            <th>Gr3_5_Grade_Level_Read__</th>\n",
       "            <th>Gr3_5_Keep_Pace_Read__</th>\n",
       "            <th>Gr3_5_Keep_Pace_Math__</th>\n",
       "            <th>Gr6_8_Grade_Level_Math__</th>\n",
       "            <th>Gr6_8_Grade_Level_Read__</th>\n",
       "            <th>Gr6_8_Keep_Pace_Math_</th>\n",
       "            <th>Gr6_8_Keep_Pace_Read__</th>\n",
       "            <th>Gr_8_Explore_Math__</th>\n",
       "            <th>Gr_8_Explore_Read__</th>\n",
       "            <th>ISAT_Exceeding_Math__</th>\n",
       "            <th>ISAT_Exceeding_Reading__</th>\n",
       "            <th>ISAT_Value_Add_Math</th>\n",
       "            <th>ISAT_Value_Add_Read</th>\n",
       "            <th>ISAT_Value_Add_Color_Math</th>\n",
       "            <th>ISAT_Value_Add_Color_Read</th>\n",
       "            <th>Students_Taking__Algebra__</th>\n",
       "            <th>Students_Passing__Algebra__</th>\n",
       "            <th>9th Grade EXPLORE (2009)</th>\n",
       "            <th>9th Grade EXPLORE (2010)</th>\n",
       "            <th>10th Grade PLAN (2009)</th>\n",
       "            <th>10th Grade PLAN (2010)</th>\n",
       "            <th>Net_Change_EXPLORE_and_PLAN</th>\n",
       "            <th>11th Grade Average ACT (2011)</th>\n",
       "            <th>Net_Change_PLAN_and_ACT</th>\n",
       "            <th>College_Eligibility__</th>\n",
       "            <th>Graduation_Rate__</th>\n",
       "            <th>College_Enrollment_Rate__</th>\n",
       "            <th>COLLEGE_ENROLLMENT</th>\n",
       "            <th>General_Services_Route</th>\n",
       "            <th>Freshman_on_Track_Rate__</th>\n",
       "            <th>X_COORDINATE</th>\n",
       "            <th>Y_COORDINATE</th>\n",
       "            <th>Latitude</th>\n",
       "            <th>Longitude</th>\n",
       "            <th>COMMUNITY_AREA_NUMBER</th>\n",
       "            <th>COMMUNITY_AREA_NAME</th>\n",
       "            <th>Ward</th>\n",
       "            <th>Police_District</th>\n",
       "            <th>Location</th>\n",
       "        </tr>\n",
       "    </thead>\n",
       "    <tbody>\n",
       "    </tbody>\n",
       "</table>"
      ],
      "text/plain": [
       "[]"
      ]
     },
     "execution_count": 21,
     "metadata": {},
     "output_type": "execute_result"
    }
   ],
   "source": [
    "%sql Select * from CHICAGO_PUBLIC_SCHOOLS_DATA limit 0;"
   ]
  },
  {
   "cell_type": "code",
   "execution_count": 28,
   "id": "9ee53a24-b6b5-4499-9a7b-13ad73e6f76d",
   "metadata": {
    "tags": []
   },
   "outputs": [
    {
     "name": "stdout",
     "output_type": "stream",
     "text": [
      " * sqlite:///RealWorldData.db\n",
      "Done.\n"
     ]
    },
    {
     "data": {
      "text/html": [
       "<table>\n",
       "    <thead>\n",
       "        <tr>\n",
       "            <th>ID</th>\n",
       "            <th>CASE_NUMBER</th>\n",
       "            <th>DATE</th>\n",
       "            <th>BLOCK</th>\n",
       "            <th>IUCR</th>\n",
       "            <th>PRIMARY_TYPE</th>\n",
       "            <th>DESCRIPTION</th>\n",
       "            <th>LOCATION_DESCRIPTION</th>\n",
       "            <th>ARREST</th>\n",
       "            <th>DOMESTIC</th>\n",
       "            <th>BEAT</th>\n",
       "            <th>DISTRICT</th>\n",
       "            <th>WARD</th>\n",
       "            <th>COMMUNITY_AREA_NUMBER</th>\n",
       "            <th>FBICODE</th>\n",
       "            <th>X_COORDINATE</th>\n",
       "            <th>Y_COORDINATE</th>\n",
       "            <th>YEAR</th>\n",
       "            <th>LATITUDE</th>\n",
       "            <th>LONGITUDE</th>\n",
       "            <th>LOCATION</th>\n",
       "        </tr>\n",
       "    </thead>\n",
       "    <tbody>\n",
       "    </tbody>\n",
       "</table>"
      ],
      "text/plain": [
       "[]"
      ]
     },
     "execution_count": 28,
     "metadata": {},
     "output_type": "execute_result"
    }
   ],
   "source": [
    "%sql Select * from CHICAGO_CRIME_DATA limit 0;"
   ]
  },
  {
   "cell_type": "code",
   "execution_count": 51,
   "id": "78d3940e-db8f-4d7f-9913-3b08efd60dbf",
   "metadata": {
    "tags": []
   },
   "outputs": [
    {
     "name": "stdout",
     "output_type": "stream",
     "text": [
      " * sqlite:///RealWorldData.db\n",
      "Done.\n"
     ]
    },
    {
     "data": {
      "text/html": [
       "<table>\n",
       "    <thead>\n",
       "        <tr>\n",
       "            <th>COMMUNITY_AREA_NUMBER</th>\n",
       "            <th>COMMUNITY_AREA_NAME</th>\n",
       "            <th>PERCENT_OF_HOUSING_CROWDED</th>\n",
       "            <th>PERCENT_HOUSEHOLDS_BELOW_POVERTY</th>\n",
       "            <th>PERCENT_AGED_16__UNEMPLOYED</th>\n",
       "            <th>PERCENT_AGED_25__WITHOUT_HIGH_SCHOOL_DIPLOMA</th>\n",
       "            <th>PERCENT_AGED_UNDER_18_OR_OVER_64</th>\n",
       "            <th>PER_CAPITA_INCOME</th>\n",
       "            <th>HARDSHIP_INDEX</th>\n",
       "        </tr>\n",
       "    </thead>\n",
       "    <tbody>\n",
       "    </tbody>\n",
       "</table>"
      ],
      "text/plain": [
       "[]"
      ]
     },
     "execution_count": 51,
     "metadata": {},
     "output_type": "execute_result"
    }
   ],
   "source": [
    "%sql Select * from CENSUS_DATA limit 0;"
   ]
  },
  {
   "cell_type": "code",
   "execution_count": 53,
   "id": "0914d247-b005-465c-85a7-744bf70213e0",
   "metadata": {
    "tags": []
   },
   "outputs": [
    {
     "name": "stdout",
     "output_type": "stream",
     "text": [
      " * sqlite:///RealWorldData.db\n",
      "Done.\n"
     ]
    },
    {
     "data": {
      "text/html": [
       "<table>\n",
       "    <thead>\n",
       "        <tr>\n",
       "            <th>Total_Crime_Number</th>\n",
       "        </tr>\n",
       "    </thead>\n",
       "    <tbody>\n",
       "        <tr>\n",
       "            <td>533</td>\n",
       "        </tr>\n",
       "    </tbody>\n",
       "</table>"
      ],
      "text/plain": [
       "[(533,)]"
      ]
     },
     "execution_count": 53,
     "metadata": {},
     "output_type": "execute_result"
    }
   ],
   "source": [
    "#Problem 1 : Find the total number of crimes recorded in the CRIME table.\n",
    "%sql select count( DISTINCT ID) as Total_Crime_Number from CHICAGO_CRIME_DATA;"
   ]
  },
  {
   "cell_type": "code",
   "execution_count": 52,
   "id": "28a1f6ae-7285-4168-ba2d-a8e9506e10d1",
   "metadata": {
    "tags": []
   },
   "outputs": [
    {
     "name": "stdout",
     "output_type": "stream",
     "text": [
      " * sqlite:///RealWorldData.db\n",
      "Done.\n"
     ]
    },
    {
     "data": {
      "text/html": [
       "<table>\n",
       "    <thead>\n",
       "        <tr>\n",
       "            <th>COMMUNITY_AREA_NAME</th>\n",
       "        </tr>\n",
       "    </thead>\n",
       "    <tbody>\n",
       "        <tr>\n",
       "            <td>West Garfield Park</td>\n",
       "        </tr>\n",
       "        <tr>\n",
       "            <td>South Lawndale</td>\n",
       "        </tr>\n",
       "        <tr>\n",
       "            <td>Fuller Park</td>\n",
       "        </tr>\n",
       "        <tr>\n",
       "            <td>Riverdale</td>\n",
       "        </tr>\n",
       "    </tbody>\n",
       "</table>"
      ],
      "text/plain": [
       "[('West Garfield Park',),\n",
       " ('South Lawndale',),\n",
       " ('Fuller Park',),\n",
       " ('Riverdale',)]"
      ]
     },
     "execution_count": 52,
     "metadata": {},
     "output_type": "execute_result"
    }
   ],
   "source": [
    "#Problem 2 : List community areas with per capita income less than 11000.\n",
    "%sql select DISTINCT(COMMUNITY_AREA_NAME) from CENSUS_DATA where PER_CAPITA_INCOME < 11000 ;"
   ]
  },
  {
   "cell_type": "code",
   "execution_count": 54,
   "id": "29ca9a86-221c-4c15-beb8-f3d821ef6efc",
   "metadata": {
    "tags": []
   },
   "outputs": [
    {
     "name": "stdout",
     "output_type": "stream",
     "text": [
      " * sqlite:///RealWorldData.db\n",
      "Done.\n"
     ]
    },
    {
     "data": {
      "text/html": [
       "<table>\n",
       "    <thead>\n",
       "        <tr>\n",
       "            <th>CASE_NUMBER</th>\n",
       "        </tr>\n",
       "    </thead>\n",
       "    <tbody>\n",
       "        <tr>\n",
       "            <td>HL266884</td>\n",
       "        </tr>\n",
       "        <tr>\n",
       "            <td>HK238408</td>\n",
       "        </tr>\n",
       "    </tbody>\n",
       "</table>"
      ],
      "text/plain": [
       "[('HL266884',), ('HK238408',)]"
      ]
     },
     "execution_count": 54,
     "metadata": {},
     "output_type": "execute_result"
    }
   ],
   "source": [
    "#Problem 3 : List all case numbers for crimes involving minors?\n",
    "%sql select distinct CASE_NUMBER from CHICAGO_CRIME_DATA where DESCRIPTION LIKE '%MINOR%';"
   ]
  },
  {
   "cell_type": "code",
   "execution_count": 60,
   "id": "c898dac1-a9b7-4f0a-9a90-f41cf9ea787e",
   "metadata": {
    "tags": []
   },
   "outputs": [
    {
     "name": "stdout",
     "output_type": "stream",
     "text": [
      " * sqlite:///RealWorldData.db\n",
      "Done.\n"
     ]
    },
    {
     "data": {
      "text/html": [
       "<table>\n",
       "    <thead>\n",
       "        <tr>\n",
       "            <th>CASE_NUMBER</th>\n",
       "            <th>BLOCK</th>\n",
       "            <th>IUCR</th>\n",
       "            <th>ARREST</th>\n",
       "            <th>DISTRICT</th>\n",
       "            <th>DESCRIPTION</th>\n",
       "        </tr>\n",
       "    </thead>\n",
       "    <tbody>\n",
       "        <tr>\n",
       "            <td>HN144152</td>\n",
       "            <td>050XX W VAN BUREN ST</td>\n",
       "            <td>1792</td>\n",
       "            <td>0</td>\n",
       "            <td>15</td>\n",
       "            <td>CHILD ABDUCTION/STRANGER</td>\n",
       "        </tr>\n",
       "    </tbody>\n",
       "</table>"
      ],
      "text/plain": [
       "[('HN144152', '050XX W VAN BUREN ST', '1792', 0, 15, 'CHILD ABDUCTION/STRANGER')]"
      ]
     },
     "execution_count": 60,
     "metadata": {},
     "output_type": "execute_result"
    }
   ],
   "source": [
    "#Problem 4 : List all kidnapping crimes involving a child?(children are not considered minors for the purposes of crime analysis)\n",
    "\n",
    "%sql select CASE_NUMBER, BLOCK, IUCR,ARREST, DISTRICT, DESCRIPTION from CHICAGO_CRIME_DATA where PRIMARY_TYPE = 'KIDNAPPING';"
   ]
  },
  {
   "cell_type": "code",
   "execution_count": 61,
   "id": "c10a76bb-ff6a-4f7d-b065-7598b5017220",
   "metadata": {
    "tags": []
   },
   "outputs": [
    {
     "name": "stdout",
     "output_type": "stream",
     "text": [
      " * sqlite:///RealWorldData.db\n",
      "Done.\n"
     ]
    },
    {
     "data": {
      "text/html": [
       "<table>\n",
       "    <thead>\n",
       "        <tr>\n",
       "            <th>PRIMARY_TYPE</th>\n",
       "            <th>LOCATION_DESCRIPTION</th>\n",
       "            <th>DESCRIPTION</th>\n",
       "        </tr>\n",
       "    </thead>\n",
       "    <tbody>\n",
       "        <tr>\n",
       "            <td>BATTERY</td>\n",
       "            <td>SCHOOL, PUBLIC, GROUNDS</td>\n",
       "            <td>SIMPLE</td>\n",
       "        </tr>\n",
       "        <tr>\n",
       "            <td>BATTERY</td>\n",
       "            <td>SCHOOL, PUBLIC, BUILDING</td>\n",
       "            <td>PRO EMP HANDS NO/MIN INJURY</td>\n",
       "        </tr>\n",
       "        <tr>\n",
       "            <td>BATTERY</td>\n",
       "            <td>SCHOOL, PUBLIC, BUILDING</td>\n",
       "            <td>SIMPLE</td>\n",
       "        </tr>\n",
       "        <tr>\n",
       "            <td>CRIMINAL DAMAGE</td>\n",
       "            <td>SCHOOL, PUBLIC, GROUNDS</td>\n",
       "            <td>TO VEHICLE</td>\n",
       "        </tr>\n",
       "        <tr>\n",
       "            <td>NARCOTICS</td>\n",
       "            <td>SCHOOL, PUBLIC, GROUNDS</td>\n",
       "            <td>POSS: HEROIN(WHITE)</td>\n",
       "        </tr>\n",
       "        <tr>\n",
       "            <td>NARCOTICS</td>\n",
       "            <td>SCHOOL, PUBLIC, BUILDING</td>\n",
       "            <td>MANU/DEL:CANNABIS 10GM OR LESS</td>\n",
       "        </tr>\n",
       "        <tr>\n",
       "            <td>ASSAULT</td>\n",
       "            <td>SCHOOL, PUBLIC, GROUNDS</td>\n",
       "            <td>PRO EMP HANDS NO/MIN INJURY</td>\n",
       "        </tr>\n",
       "        <tr>\n",
       "            <td>CRIMINAL TRESPASS</td>\n",
       "            <td>SCHOOL, PUBLIC, GROUNDS</td>\n",
       "            <td>TO LAND</td>\n",
       "        </tr>\n",
       "        <tr>\n",
       "            <td>PUBLIC PEACE VIOLATION</td>\n",
       "            <td>SCHOOL, PRIVATE, BUILDING</td>\n",
       "            <td>BOMB THREAT</td>\n",
       "        </tr>\n",
       "        <tr>\n",
       "            <td>PUBLIC PEACE VIOLATION</td>\n",
       "            <td>SCHOOL, PUBLIC, BUILDING</td>\n",
       "            <td>BOMB THREAT</td>\n",
       "        </tr>\n",
       "    </tbody>\n",
       "</table>"
      ],
      "text/plain": [
       "[('BATTERY', 'SCHOOL, PUBLIC, GROUNDS', 'SIMPLE'),\n",
       " ('BATTERY', 'SCHOOL, PUBLIC, BUILDING', 'PRO EMP HANDS NO/MIN INJURY'),\n",
       " ('BATTERY', 'SCHOOL, PUBLIC, BUILDING', 'SIMPLE'),\n",
       " ('CRIMINAL DAMAGE', 'SCHOOL, PUBLIC, GROUNDS', 'TO VEHICLE'),\n",
       " ('NARCOTICS', 'SCHOOL, PUBLIC, GROUNDS', 'POSS: HEROIN(WHITE)'),\n",
       " ('NARCOTICS', 'SCHOOL, PUBLIC, BUILDING', 'MANU/DEL:CANNABIS 10GM OR LESS'),\n",
       " ('ASSAULT', 'SCHOOL, PUBLIC, GROUNDS', 'PRO EMP HANDS NO/MIN INJURY'),\n",
       " ('CRIMINAL TRESPASS', 'SCHOOL, PUBLIC, GROUNDS', 'TO LAND'),\n",
       " ('PUBLIC PEACE VIOLATION', 'SCHOOL, PRIVATE, BUILDING', 'BOMB THREAT'),\n",
       " ('PUBLIC PEACE VIOLATION', 'SCHOOL, PUBLIC, BUILDING', 'BOMB THREAT')]"
      ]
     },
     "execution_count": 61,
     "metadata": {},
     "output_type": "execute_result"
    }
   ],
   "source": [
    "#Problem 5 : What kind of crimes were recorded at schools?\n",
    "%sql SELECT DISTINCT(PRIMARY_TYPE), LOCATION_DESCRIPTION, DESCRIPTION FROM CHICAGO_CRIME_DATA WHERE LOCATION_DESCRIPTION LIKE '%SCHOOL%';"
   ]
  },
  {
   "cell_type": "code",
   "execution_count": 62,
   "id": "a917aaea-72c0-49c7-b2d0-091b057b7bfd",
   "metadata": {
    "tags": []
   },
   "outputs": [
    {
     "name": "stdout",
     "output_type": "stream",
     "text": [
      " * sqlite:///RealWorldData.db\n",
      "Done.\n"
     ]
    },
    {
     "data": {
      "text/html": [
       "<table>\n",
       "    <thead>\n",
       "        <tr>\n",
       "            <th>Elementary, Middle, or High School</th>\n",
       "            <th>AVERAGE_SCORE</th>\n",
       "        </tr>\n",
       "    </thead>\n",
       "    <tbody>\n",
       "        <tr>\n",
       "            <td>ES</td>\n",
       "            <td>49.52038369304557</td>\n",
       "        </tr>\n",
       "        <tr>\n",
       "            <td>HS</td>\n",
       "            <td>49.62352941176471</td>\n",
       "        </tr>\n",
       "        <tr>\n",
       "            <td>MS</td>\n",
       "            <td>48.0</td>\n",
       "        </tr>\n",
       "    </tbody>\n",
       "</table>"
      ],
      "text/plain": [
       "[('ES', 49.52038369304557), ('HS', 49.62352941176471), ('MS', 48.0)]"
      ]
     },
     "execution_count": 62,
     "metadata": {},
     "output_type": "execute_result"
    }
   ],
   "source": [
    "#Problem 6 :List the average safety score for all types of schools.\n",
    "%sql SELECT \"Elementary, Middle, or High School\", AVG(SAFETY_SCORE) AVERAGE_SCORE FROM CHICAGO_PUBLIC_SCHOOLS_DATA GROUP BY \"Elementary, Middle, or High School\";"
   ]
  },
  {
   "cell_type": "code",
   "execution_count": 63,
   "id": "84b82c2e-9fdb-4daf-af3e-06eb3f539b77",
   "metadata": {
    "tags": []
   },
   "outputs": [
    {
     "name": "stdout",
     "output_type": "stream",
     "text": [
      " * sqlite:///RealWorldData.db\n",
      "Done.\n"
     ]
    },
    {
     "data": {
      "text/html": [
       "<table>\n",
       "    <thead>\n",
       "        <tr>\n",
       "            <th>COMMUNITY_AREA_NAME</th>\n",
       "            <th>PERCENT_HOUSEHOLDS_BELOW_POVERTY</th>\n",
       "        </tr>\n",
       "    </thead>\n",
       "    <tbody>\n",
       "        <tr>\n",
       "            <td>Riverdale</td>\n",
       "            <td>56.5</td>\n",
       "        </tr>\n",
       "        <tr>\n",
       "            <td>Fuller Park</td>\n",
       "            <td>51.2</td>\n",
       "        </tr>\n",
       "        <tr>\n",
       "            <td>Englewood</td>\n",
       "            <td>46.6</td>\n",
       "        </tr>\n",
       "        <tr>\n",
       "            <td>North Lawndale</td>\n",
       "            <td>43.1</td>\n",
       "        </tr>\n",
       "        <tr>\n",
       "            <td>East Garfield Park</td>\n",
       "            <td>42.4</td>\n",
       "        </tr>\n",
       "    </tbody>\n",
       "</table>"
      ],
      "text/plain": [
       "[('Riverdale', 56.5),\n",
       " ('Fuller Park', 51.2),\n",
       " ('Englewood', 46.6),\n",
       " ('North Lawndale', 43.1),\n",
       " ('East Garfield Park', 42.4)]"
      ]
     },
     "execution_count": 63,
     "metadata": {},
     "output_type": "execute_result"
    }
   ],
   "source": [
    "#Problem 7 :List 5 community areas with highest % of households below poverty line.\n",
    "%sql select COMMUNITY_AREA_NAME, PERCENT_HOUSEHOLDS_BELOW_POVERTY from CENSUS_DATA ORDER BY PERCENT_HOUSEHOLDS_BELOW_POVERTY desc limit 5; "
   ]
  },
  {
   "cell_type": "code",
   "execution_count": 67,
   "id": "ee3d5801-cf52-4ebc-a3f4-27660820396b",
   "metadata": {
    "tags": []
   },
   "outputs": [
    {
     "name": "stdout",
     "output_type": "stream",
     "text": [
      " * sqlite:///RealWorldData.db\n",
      "Done.\n"
     ]
    },
    {
     "data": {
      "text/html": [
       "<table>\n",
       "    <thead>\n",
       "        <tr>\n",
       "            <th>NUMBER_OF_CRIMES</th>\n",
       "            <th>COMMUNITY_AREA_NUMBER</th>\n",
       "        </tr>\n",
       "    </thead>\n",
       "    <tbody>\n",
       "        <tr>\n",
       "            <td>43</td>\n",
       "            <td>25.0</td>\n",
       "        </tr>\n",
       "    </tbody>\n",
       "</table>"
      ],
      "text/plain": [
       "[(43, 25.0)]"
      ]
     },
     "execution_count": 67,
     "metadata": {},
     "output_type": "execute_result"
    }
   ],
   "source": [
    "#Problem 8 : Which community area(number) is most crime prone?\n",
    "%sql select count(COMMUNITY_AREA_NUMBER) as NUMBER_OF_CRIMES, COMMUNITY_AREA_NUMBER from CHICAGO_CRIME_DATA GROUP BY COMMUNITY_AREA_NUMBER ORDER BY COUNT(COMMUNITY_AREA_NUMBER) DESC Limit 1;"
   ]
  },
  {
   "cell_type": "code",
   "execution_count": 68,
   "id": "11a5940a-04c3-466d-a334-8d877e099d2d",
   "metadata": {
    "tags": []
   },
   "outputs": [
    {
     "name": "stdout",
     "output_type": "stream",
     "text": [
      " * sqlite:///RealWorldData.db\n",
      "Done.\n"
     ]
    },
    {
     "data": {
      "text/html": [
       "<table>\n",
       "    <thead>\n",
       "        <tr>\n",
       "            <th>COMMUNITY_AREA_NAME</th>\n",
       "        </tr>\n",
       "    </thead>\n",
       "    <tbody>\n",
       "        <tr>\n",
       "            <td>Riverdale</td>\n",
       "        </tr>\n",
       "    </tbody>\n",
       "</table>"
      ],
      "text/plain": [
       "[('Riverdale',)]"
      ]
     },
     "execution_count": 68,
     "metadata": {},
     "output_type": "execute_result"
    }
   ],
   "source": [
    "#Problem 9 : Use a sub-query to find the name of the community area with highest hardship index\n",
    "%sql select COMMUNITY_AREA_NAME from CENSUS_DATA where HARDSHIP_INDEX = (select MAX(HARDSHIP_INDEX) from CENSUS_DATA) "
   ]
  },
  {
   "cell_type": "code",
   "execution_count": 70,
   "id": "b3cc2960-0fec-4879-af13-c78c046deff6",
   "metadata": {
    "tags": []
   },
   "outputs": [
    {
     "name": "stdout",
     "output_type": "stream",
     "text": [
      " * sqlite:///RealWorldData.db\n",
      "Done.\n"
     ]
    },
    {
     "data": {
      "text/html": [
       "<table>\n",
       "    <thead>\n",
       "        <tr>\n",
       "            <th>COMMUNITY_AREA_NAME</th>\n",
       "        </tr>\n",
       "    </thead>\n",
       "    <tbody>\n",
       "        <tr>\n",
       "            <td>Austin</td>\n",
       "        </tr>\n",
       "    </tbody>\n",
       "</table>"
      ],
      "text/plain": [
       "[('Austin',)]"
      ]
     },
     "execution_count": 70,
     "metadata": {},
     "output_type": "execute_result"
    }
   ],
   "source": [
    "#Problem 10: Use a sub-query to determine the Community Area Name with most number of crimes?\n",
    "%sql select COMMUNITY_AREA_NAME from CENSUS_DATA where COMMUNITY_AREA_NUMBER = ( select COMMUNITY_AREA_NUMBER from CHICAGO_CRIME_DATA GROUP BY COMMUNITY_AREA_NUMBER ORDER BY COUNT(CASE_NUMBER) desc limit 1);  "
   ]
  },
  {
   "cell_type": "code",
   "execution_count": null,
   "id": "bfd6f57b-868a-420b-aad1-70bc66f4d07b",
   "metadata": {},
   "outputs": [],
   "source": []
  }
 ],
 "metadata": {
  "kernelspec": {
   "display_name": "Python",
   "language": "python",
   "name": "conda-env-python-py"
  },
  "language_info": {
   "codemirror_mode": {
    "name": "ipython",
    "version": 3
   },
   "file_extension": ".py",
   "mimetype": "text/x-python",
   "name": "python",
   "nbconvert_exporter": "python",
   "pygments_lexer": "ipython3",
   "version": "3.7.12"
  }
 },
 "nbformat": 4,
 "nbformat_minor": 5
}
